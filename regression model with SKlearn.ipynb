{
 "cells": [
  {
   "cell_type": "code",
   "execution_count": 85,
   "metadata": {},
   "outputs": [],
   "source": [
    "import numpy as np\n",
    "from sklearn.linear_model import LinearRegression\n",
    "import pandas as pd\n",
    "from sklearn.metrics import mean_squared_error,r2_score\n",
    "import matplotlib.pyplot as plt"
   ]
  },
  {
   "cell_type": "code",
   "execution_count": 2,
   "metadata": {},
   "outputs": [],
   "source": [
    "data=pd.read_csv('/home/divyesh/Desktop/Python/Machine learning/laptopbettery.csv',names=['chargetime','deadtime'])"
   ]
  },
  {
   "cell_type": "code",
   "execution_count": 3,
   "metadata": {},
   "outputs": [
    {
     "data": {
      "text/html": [
       "<div>\n",
       "<style scoped>\n",
       "    .dataframe tbody tr th:only-of-type {\n",
       "        vertical-align: middle;\n",
       "    }\n",
       "\n",
       "    .dataframe tbody tr th {\n",
       "        vertical-align: top;\n",
       "    }\n",
       "\n",
       "    .dataframe thead th {\n",
       "        text-align: right;\n",
       "    }\n",
       "</style>\n",
       "<table border=\"1\" class=\"dataframe\">\n",
       "  <thead>\n",
       "    <tr style=\"text-align: right;\">\n",
       "      <th></th>\n",
       "      <th>chargetime</th>\n",
       "      <th>deadtime</th>\n",
       "    </tr>\n",
       "  </thead>\n",
       "  <tbody>\n",
       "    <tr>\n",
       "      <th>0</th>\n",
       "      <td>2.81</td>\n",
       "      <td>5.62</td>\n",
       "    </tr>\n",
       "    <tr>\n",
       "      <th>1</th>\n",
       "      <td>7.14</td>\n",
       "      <td>8.00</td>\n",
       "    </tr>\n",
       "    <tr>\n",
       "      <th>2</th>\n",
       "      <td>2.72</td>\n",
       "      <td>5.44</td>\n",
       "    </tr>\n",
       "    <tr>\n",
       "      <th>3</th>\n",
       "      <td>3.87</td>\n",
       "      <td>7.74</td>\n",
       "    </tr>\n",
       "    <tr>\n",
       "      <th>4</th>\n",
       "      <td>1.90</td>\n",
       "      <td>3.80</td>\n",
       "    </tr>\n",
       "    <tr>\n",
       "      <th>5</th>\n",
       "      <td>7.82</td>\n",
       "      <td>8.00</td>\n",
       "    </tr>\n",
       "    <tr>\n",
       "      <th>6</th>\n",
       "      <td>7.02</td>\n",
       "      <td>8.00</td>\n",
       "    </tr>\n",
       "    <tr>\n",
       "      <th>7</th>\n",
       "      <td>5.50</td>\n",
       "      <td>8.00</td>\n",
       "    </tr>\n",
       "    <tr>\n",
       "      <th>8</th>\n",
       "      <td>9.15</td>\n",
       "      <td>8.00</td>\n",
       "    </tr>\n",
       "    <tr>\n",
       "      <th>9</th>\n",
       "      <td>4.87</td>\n",
       "      <td>8.00</td>\n",
       "    </tr>\n",
       "    <tr>\n",
       "      <th>10</th>\n",
       "      <td>8.08</td>\n",
       "      <td>8.00</td>\n",
       "    </tr>\n",
       "    <tr>\n",
       "      <th>11</th>\n",
       "      <td>5.58</td>\n",
       "      <td>8.00</td>\n",
       "    </tr>\n",
       "    <tr>\n",
       "      <th>12</th>\n",
       "      <td>9.13</td>\n",
       "      <td>8.00</td>\n",
       "    </tr>\n",
       "    <tr>\n",
       "      <th>13</th>\n",
       "      <td>0.14</td>\n",
       "      <td>0.28</td>\n",
       "    </tr>\n",
       "    <tr>\n",
       "      <th>14</th>\n",
       "      <td>2.00</td>\n",
       "      <td>4.00</td>\n",
       "    </tr>\n",
       "    <tr>\n",
       "      <th>15</th>\n",
       "      <td>5.47</td>\n",
       "      <td>8.00</td>\n",
       "    </tr>\n",
       "    <tr>\n",
       "      <th>16</th>\n",
       "      <td>0.80</td>\n",
       "      <td>1.60</td>\n",
       "    </tr>\n",
       "    <tr>\n",
       "      <th>17</th>\n",
       "      <td>4.37</td>\n",
       "      <td>8.00</td>\n",
       "    </tr>\n",
       "    <tr>\n",
       "      <th>18</th>\n",
       "      <td>5.31</td>\n",
       "      <td>8.00</td>\n",
       "    </tr>\n",
       "    <tr>\n",
       "      <th>19</th>\n",
       "      <td>0.00</td>\n",
       "      <td>0.00</td>\n",
       "    </tr>\n",
       "    <tr>\n",
       "      <th>20</th>\n",
       "      <td>1.78</td>\n",
       "      <td>3.56</td>\n",
       "    </tr>\n",
       "    <tr>\n",
       "      <th>21</th>\n",
       "      <td>3.45</td>\n",
       "      <td>6.90</td>\n",
       "    </tr>\n",
       "    <tr>\n",
       "      <th>22</th>\n",
       "      <td>6.13</td>\n",
       "      <td>8.00</td>\n",
       "    </tr>\n",
       "    <tr>\n",
       "      <th>23</th>\n",
       "      <td>3.53</td>\n",
       "      <td>7.06</td>\n",
       "    </tr>\n",
       "    <tr>\n",
       "      <th>24</th>\n",
       "      <td>4.61</td>\n",
       "      <td>8.00</td>\n",
       "    </tr>\n",
       "    <tr>\n",
       "      <th>25</th>\n",
       "      <td>1.76</td>\n",
       "      <td>3.52</td>\n",
       "    </tr>\n",
       "    <tr>\n",
       "      <th>26</th>\n",
       "      <td>6.39</td>\n",
       "      <td>8.00</td>\n",
       "    </tr>\n",
       "    <tr>\n",
       "      <th>27</th>\n",
       "      <td>0.02</td>\n",
       "      <td>0.04</td>\n",
       "    </tr>\n",
       "    <tr>\n",
       "      <th>28</th>\n",
       "      <td>9.69</td>\n",
       "      <td>8.00</td>\n",
       "    </tr>\n",
       "    <tr>\n",
       "      <th>29</th>\n",
       "      <td>5.33</td>\n",
       "      <td>8.00</td>\n",
       "    </tr>\n",
       "    <tr>\n",
       "      <th>...</th>\n",
       "      <td>...</td>\n",
       "      <td>...</td>\n",
       "    </tr>\n",
       "    <tr>\n",
       "      <th>70</th>\n",
       "      <td>5.39</td>\n",
       "      <td>8.00</td>\n",
       "    </tr>\n",
       "    <tr>\n",
       "      <th>71</th>\n",
       "      <td>3.47</td>\n",
       "      <td>6.94</td>\n",
       "    </tr>\n",
       "    <tr>\n",
       "      <th>72</th>\n",
       "      <td>6.48</td>\n",
       "      <td>8.00</td>\n",
       "    </tr>\n",
       "    <tr>\n",
       "      <th>73</th>\n",
       "      <td>4.11</td>\n",
       "      <td>8.00</td>\n",
       "    </tr>\n",
       "    <tr>\n",
       "      <th>74</th>\n",
       "      <td>1.85</td>\n",
       "      <td>3.70</td>\n",
       "    </tr>\n",
       "    <tr>\n",
       "      <th>75</th>\n",
       "      <td>8.79</td>\n",
       "      <td>8.00</td>\n",
       "    </tr>\n",
       "    <tr>\n",
       "      <th>76</th>\n",
       "      <td>0.13</td>\n",
       "      <td>0.26</td>\n",
       "    </tr>\n",
       "    <tr>\n",
       "      <th>77</th>\n",
       "      <td>1.44</td>\n",
       "      <td>2.88</td>\n",
       "    </tr>\n",
       "    <tr>\n",
       "      <th>78</th>\n",
       "      <td>5.96</td>\n",
       "      <td>8.00</td>\n",
       "    </tr>\n",
       "    <tr>\n",
       "      <th>79</th>\n",
       "      <td>3.42</td>\n",
       "      <td>6.84</td>\n",
       "    </tr>\n",
       "    <tr>\n",
       "      <th>80</th>\n",
       "      <td>1.89</td>\n",
       "      <td>3.78</td>\n",
       "    </tr>\n",
       "    <tr>\n",
       "      <th>81</th>\n",
       "      <td>1.98</td>\n",
       "      <td>3.96</td>\n",
       "    </tr>\n",
       "    <tr>\n",
       "      <th>82</th>\n",
       "      <td>5.26</td>\n",
       "      <td>8.00</td>\n",
       "    </tr>\n",
       "    <tr>\n",
       "      <th>83</th>\n",
       "      <td>0.39</td>\n",
       "      <td>0.78</td>\n",
       "    </tr>\n",
       "    <tr>\n",
       "      <th>84</th>\n",
       "      <td>6.05</td>\n",
       "      <td>8.00</td>\n",
       "    </tr>\n",
       "    <tr>\n",
       "      <th>85</th>\n",
       "      <td>1.99</td>\n",
       "      <td>3.98</td>\n",
       "    </tr>\n",
       "    <tr>\n",
       "      <th>86</th>\n",
       "      <td>1.58</td>\n",
       "      <td>3.16</td>\n",
       "    </tr>\n",
       "    <tr>\n",
       "      <th>87</th>\n",
       "      <td>3.99</td>\n",
       "      <td>7.98</td>\n",
       "    </tr>\n",
       "    <tr>\n",
       "      <th>88</th>\n",
       "      <td>4.35</td>\n",
       "      <td>8.00</td>\n",
       "    </tr>\n",
       "    <tr>\n",
       "      <th>89</th>\n",
       "      <td>6.71</td>\n",
       "      <td>8.00</td>\n",
       "    </tr>\n",
       "    <tr>\n",
       "      <th>90</th>\n",
       "      <td>2.58</td>\n",
       "      <td>5.16</td>\n",
       "    </tr>\n",
       "    <tr>\n",
       "      <th>91</th>\n",
       "      <td>7.37</td>\n",
       "      <td>8.00</td>\n",
       "    </tr>\n",
       "    <tr>\n",
       "      <th>92</th>\n",
       "      <td>5.77</td>\n",
       "      <td>8.00</td>\n",
       "    </tr>\n",
       "    <tr>\n",
       "      <th>93</th>\n",
       "      <td>3.97</td>\n",
       "      <td>7.94</td>\n",
       "    </tr>\n",
       "    <tr>\n",
       "      <th>94</th>\n",
       "      <td>3.65</td>\n",
       "      <td>7.30</td>\n",
       "    </tr>\n",
       "    <tr>\n",
       "      <th>95</th>\n",
       "      <td>4.38</td>\n",
       "      <td>8.00</td>\n",
       "    </tr>\n",
       "    <tr>\n",
       "      <th>96</th>\n",
       "      <td>8.06</td>\n",
       "      <td>8.00</td>\n",
       "    </tr>\n",
       "    <tr>\n",
       "      <th>97</th>\n",
       "      <td>8.05</td>\n",
       "      <td>8.00</td>\n",
       "    </tr>\n",
       "    <tr>\n",
       "      <th>98</th>\n",
       "      <td>1.10</td>\n",
       "      <td>2.20</td>\n",
       "    </tr>\n",
       "    <tr>\n",
       "      <th>99</th>\n",
       "      <td>6.65</td>\n",
       "      <td>8.00</td>\n",
       "    </tr>\n",
       "  </tbody>\n",
       "</table>\n",
       "<p>100 rows × 2 columns</p>\n",
       "</div>"
      ],
      "text/plain": [
       "    chargetime  deadtime\n",
       "0         2.81      5.62\n",
       "1         7.14      8.00\n",
       "2         2.72      5.44\n",
       "3         3.87      7.74\n",
       "4         1.90      3.80\n",
       "5         7.82      8.00\n",
       "6         7.02      8.00\n",
       "7         5.50      8.00\n",
       "8         9.15      8.00\n",
       "9         4.87      8.00\n",
       "10        8.08      8.00\n",
       "11        5.58      8.00\n",
       "12        9.13      8.00\n",
       "13        0.14      0.28\n",
       "14        2.00      4.00\n",
       "15        5.47      8.00\n",
       "16        0.80      1.60\n",
       "17        4.37      8.00\n",
       "18        5.31      8.00\n",
       "19        0.00      0.00\n",
       "20        1.78      3.56\n",
       "21        3.45      6.90\n",
       "22        6.13      8.00\n",
       "23        3.53      7.06\n",
       "24        4.61      8.00\n",
       "25        1.76      3.52\n",
       "26        6.39      8.00\n",
       "27        0.02      0.04\n",
       "28        9.69      8.00\n",
       "29        5.33      8.00\n",
       "..         ...       ...\n",
       "70        5.39      8.00\n",
       "71        3.47      6.94\n",
       "72        6.48      8.00\n",
       "73        4.11      8.00\n",
       "74        1.85      3.70\n",
       "75        8.79      8.00\n",
       "76        0.13      0.26\n",
       "77        1.44      2.88\n",
       "78        5.96      8.00\n",
       "79        3.42      6.84\n",
       "80        1.89      3.78\n",
       "81        1.98      3.96\n",
       "82        5.26      8.00\n",
       "83        0.39      0.78\n",
       "84        6.05      8.00\n",
       "85        1.99      3.98\n",
       "86        1.58      3.16\n",
       "87        3.99      7.98\n",
       "88        4.35      8.00\n",
       "89        6.71      8.00\n",
       "90        2.58      5.16\n",
       "91        7.37      8.00\n",
       "92        5.77      8.00\n",
       "93        3.97      7.94\n",
       "94        3.65      7.30\n",
       "95        4.38      8.00\n",
       "96        8.06      8.00\n",
       "97        8.05      8.00\n",
       "98        1.10      2.20\n",
       "99        6.65      8.00\n",
       "\n",
       "[100 rows x 2 columns]"
      ]
     },
     "execution_count": 3,
     "metadata": {},
     "output_type": "execute_result"
    }
   ],
   "source": [
    "data"
   ]
  },
  {
   "cell_type": "code",
   "execution_count": 4,
   "metadata": {},
   "outputs": [],
   "source": [
    "d1=data.values"
   ]
  },
  {
   "cell_type": "code",
   "execution_count": 5,
   "metadata": {},
   "outputs": [
    {
     "data": {
      "text/plain": [
       "array([[ 2.81,  5.62],\n",
       "       [ 7.14,  8.  ],\n",
       "       [ 2.72,  5.44],\n",
       "       [ 3.87,  7.74],\n",
       "       [ 1.9 ,  3.8 ],\n",
       "       [ 7.82,  8.  ],\n",
       "       [ 7.02,  8.  ],\n",
       "       [ 5.5 ,  8.  ],\n",
       "       [ 9.15,  8.  ],\n",
       "       [ 4.87,  8.  ],\n",
       "       [ 8.08,  8.  ],\n",
       "       [ 5.58,  8.  ],\n",
       "       [ 9.13,  8.  ],\n",
       "       [ 0.14,  0.28],\n",
       "       [ 2.  ,  4.  ],\n",
       "       [ 5.47,  8.  ],\n",
       "       [ 0.8 ,  1.6 ],\n",
       "       [ 4.37,  8.  ],\n",
       "       [ 5.31,  8.  ],\n",
       "       [ 0.  ,  0.  ],\n",
       "       [ 1.78,  3.56],\n",
       "       [ 3.45,  6.9 ],\n",
       "       [ 6.13,  8.  ],\n",
       "       [ 3.53,  7.06],\n",
       "       [ 4.61,  8.  ],\n",
       "       [ 1.76,  3.52],\n",
       "       [ 6.39,  8.  ],\n",
       "       [ 0.02,  0.04],\n",
       "       [ 9.69,  8.  ],\n",
       "       [ 5.33,  8.  ],\n",
       "       [ 6.37,  8.  ],\n",
       "       [ 5.55,  8.  ],\n",
       "       [ 7.8 ,  8.  ],\n",
       "       [ 2.06,  4.12],\n",
       "       [ 7.79,  8.  ],\n",
       "       [ 2.24,  4.48],\n",
       "       [ 9.71,  8.  ],\n",
       "       [ 1.11,  2.22],\n",
       "       [ 8.38,  8.  ],\n",
       "       [ 2.33,  4.66],\n",
       "       [ 1.83,  3.66],\n",
       "       [ 5.94,  8.  ],\n",
       "       [ 9.2 ,  8.  ],\n",
       "       [ 1.14,  2.28],\n",
       "       [ 4.15,  8.  ],\n",
       "       [ 8.43,  8.  ],\n",
       "       [ 5.68,  8.  ],\n",
       "       [ 8.21,  8.  ],\n",
       "       [ 1.75,  3.5 ],\n",
       "       [ 2.16,  4.32],\n",
       "       [ 4.93,  8.  ],\n",
       "       [ 5.75,  8.  ],\n",
       "       [ 1.26,  2.52],\n",
       "       [ 3.97,  7.94],\n",
       "       [ 4.39,  8.  ],\n",
       "       [ 7.53,  8.  ],\n",
       "       [ 1.98,  3.96],\n",
       "       [ 1.66,  3.32],\n",
       "       [ 2.04,  4.08],\n",
       "       [11.72,  8.  ],\n",
       "       [ 4.64,  8.  ],\n",
       "       [ 4.71,  8.  ],\n",
       "       [ 3.77,  7.54],\n",
       "       [ 9.33,  8.  ],\n",
       "       [ 1.83,  3.66],\n",
       "       [ 2.15,  4.3 ],\n",
       "       [ 1.58,  3.16],\n",
       "       [ 9.29,  8.  ],\n",
       "       [ 1.27,  2.54],\n",
       "       [ 8.49,  8.  ],\n",
       "       [ 5.39,  8.  ],\n",
       "       [ 3.47,  6.94],\n",
       "       [ 6.48,  8.  ],\n",
       "       [ 4.11,  8.  ],\n",
       "       [ 1.85,  3.7 ],\n",
       "       [ 8.79,  8.  ],\n",
       "       [ 0.13,  0.26],\n",
       "       [ 1.44,  2.88],\n",
       "       [ 5.96,  8.  ],\n",
       "       [ 3.42,  6.84],\n",
       "       [ 1.89,  3.78],\n",
       "       [ 1.98,  3.96],\n",
       "       [ 5.26,  8.  ],\n",
       "       [ 0.39,  0.78],\n",
       "       [ 6.05,  8.  ],\n",
       "       [ 1.99,  3.98],\n",
       "       [ 1.58,  3.16],\n",
       "       [ 3.99,  7.98],\n",
       "       [ 4.35,  8.  ],\n",
       "       [ 6.71,  8.  ],\n",
       "       [ 2.58,  5.16],\n",
       "       [ 7.37,  8.  ],\n",
       "       [ 5.77,  8.  ],\n",
       "       [ 3.97,  7.94],\n",
       "       [ 3.65,  7.3 ],\n",
       "       [ 4.38,  8.  ],\n",
       "       [ 8.06,  8.  ],\n",
       "       [ 8.05,  8.  ],\n",
       "       [ 1.1 ,  2.2 ],\n",
       "       [ 6.65,  8.  ]])"
      ]
     },
     "execution_count": 5,
     "metadata": {},
     "output_type": "execute_result"
    }
   ],
   "source": [
    "d1"
   ]
  },
  {
   "cell_type": "code",
   "execution_count": 6,
   "metadata": {},
   "outputs": [
    {
     "data": {
      "text/plain": [
       "(100, 2)"
      ]
     },
     "execution_count": 6,
     "metadata": {},
     "output_type": "execute_result"
    }
   ],
   "source": [
    "d1.shape\n"
   ]
  },
  {
   "cell_type": "code",
   "execution_count": 24,
   "metadata": {},
   "outputs": [
    {
     "name": "stdout",
     "output_type": "stream",
     "text": [
      "(100, 1)\n"
     ]
    }
   ],
   "source": [
    "x=d1[:,[0]]\n",
    "y=d1[:,[1]]\n",
    "print(y.shape)\n"
   ]
  },
  {
   "cell_type": "code",
   "execution_count": 8,
   "metadata": {},
   "outputs": [],
   "source": [
    "regressionmodel=LinearRegression()"
   ]
  },
  {
   "cell_type": "code",
   "execution_count": 12,
   "metadata": {},
   "outputs": [],
   "source": [
    "reg=regressionmodel.fit(x,y)"
   ]
  },
  {
   "cell_type": "code",
   "execution_count": 13,
   "metadata": {},
   "outputs": [
    {
     "data": {
      "text/plain": [
       "LinearRegression(copy_X=True, fit_intercept=True, n_jobs=None,\n",
       "         normalize=False)"
      ]
     },
     "execution_count": 13,
     "metadata": {},
     "output_type": "execute_result"
    }
   ],
   "source": [
    "reg"
   ]
  },
  {
   "cell_type": "code",
   "execution_count": 14,
   "metadata": {},
   "outputs": [
    {
     "data": {
      "text/plain": [
       "array([[0.72955585]])"
      ]
     },
     "execution_count": 14,
     "metadata": {},
     "output_type": "execute_result"
    }
   ],
   "source": [
    "reg.coef_"
   ]
  },
  {
   "cell_type": "code",
   "execution_count": 15,
   "metadata": {},
   "outputs": [
    {
     "data": {
      "text/plain": [
       "array([2.87054111])"
      ]
     },
     "execution_count": 15,
     "metadata": {},
     "output_type": "execute_result"
    }
   ],
   "source": [
    "reg.intercept_"
   ]
  },
  {
   "cell_type": "code",
   "execution_count": 35,
   "metadata": {},
   "outputs": [
    {
     "name": "stdout",
     "output_type": "stream",
     "text": [
      "(1, 1)\n"
     ]
    },
    {
     "data": {
      "text/plain": [
       "array([[5.05920865]])"
      ]
     },
     "execution_count": 35,
     "metadata": {},
     "output_type": "execute_result"
    }
   ],
   "source": [
    "x1=[3.0]\n",
    "x1=np.array(x1)\n",
    "x1=x1.reshape(-1,1)\n",
    "print(x1.shape)\n",
    "regressionmodel.predict(x1)\n"
   ]
  },
  {
   "cell_type": "code",
   "execution_count": 38,
   "metadata": {},
   "outputs": [],
   "source": [
    "y_predicted=regressionmodel.predict(y)"
   ]
  },
  {
   "cell_type": "markdown",
   "metadata": {},
   "source": [
    "rmse=mean_squared_error(y,y_predicted)"
   ]
  },
  {
   "cell_type": "code",
   "execution_count": 41,
   "metadata": {},
   "outputs": [],
   "source": [
    "rmse=mean_squared_error(y,y_predicted)\n"
   ]
  },
  {
   "cell_type": "code",
   "execution_count": 42,
   "metadata": {},
   "outputs": [
    {
     "data": {
      "text/plain": [
       "1.8568352503989647"
      ]
     },
     "execution_count": 42,
     "metadata": {},
     "output_type": "execute_result"
    }
   ],
   "source": [
    "rmse"
   ]
  },
  {
   "cell_type": "code",
   "execution_count": 43,
   "metadata": {},
   "outputs": [
    {
     "data": {
      "text/plain": [
       "array([[6.97064497],\n",
       "       [8.70698789],\n",
       "       [6.83932492],\n",
       "       [8.51730337],\n",
       "       [5.64285333],\n",
       "       [8.70698789],\n",
       "       [8.70698789],\n",
       "       [8.70698789],\n",
       "       [8.70698789],\n",
       "       [8.70698789],\n",
       "       [8.70698789],\n",
       "       [8.70698789],\n",
       "       [8.70698789],\n",
       "       [3.07481675],\n",
       "       [5.7887645 ],\n",
       "       [8.70698789],\n",
       "       [4.03783047],\n",
       "       [8.70698789],\n",
       "       [8.70698789],\n",
       "       [2.87054111],\n",
       "       [5.46775993],\n",
       "       [7.90447646],\n",
       "       [8.70698789],\n",
       "       [8.02120539],\n",
       "       [8.70698789],\n",
       "       [5.43857769],\n",
       "       [8.70698789],\n",
       "       [2.89972335],\n",
       "       [8.70698789],\n",
       "       [8.70698789],\n",
       "       [8.70698789],\n",
       "       [8.70698789],\n",
       "       [8.70698789],\n",
       "       [5.8763112 ],\n",
       "       [8.70698789],\n",
       "       [6.13895131],\n",
       "       [8.70698789],\n",
       "       [4.49015509],\n",
       "       [8.70698789],\n",
       "       [6.27027136],\n",
       "       [5.54071551],\n",
       "       [8.70698789],\n",
       "       [8.70698789],\n",
       "       [4.53392844],\n",
       "       [8.70698789],\n",
       "       [8.70698789],\n",
       "       [8.70698789],\n",
       "       [8.70698789],\n",
       "       [5.42398658],\n",
       "       [6.02222237],\n",
       "       [8.70698789],\n",
       "       [8.70698789],\n",
       "       [4.70902185],\n",
       "       [8.66321454],\n",
       "       [8.70698789],\n",
       "       [8.70698789],\n",
       "       [5.75958227],\n",
       "       [5.29266652],\n",
       "       [5.84712897],\n",
       "       [8.70698789],\n",
       "       [8.70698789],\n",
       "       [8.70698789],\n",
       "       [8.3713922 ],\n",
       "       [8.70698789],\n",
       "       [5.54071551],\n",
       "       [6.00763125],\n",
       "       [5.17593759],\n",
       "       [8.70698789],\n",
       "       [4.72361296],\n",
       "       [8.70698789],\n",
       "       [8.70698789],\n",
       "       [7.93365869],\n",
       "       [8.70698789],\n",
       "       [8.70698789],\n",
       "       [5.56989775],\n",
       "       [8.70698789],\n",
       "       [3.06022563],\n",
       "       [4.97166195],\n",
       "       [8.70698789],\n",
       "       [7.86070311],\n",
       "       [5.62826221],\n",
       "       [5.75958227],\n",
       "       [8.70698789],\n",
       "       [3.43959467],\n",
       "       [8.70698789],\n",
       "       [5.77417338],\n",
       "       [5.17593759],\n",
       "       [8.69239677],\n",
       "       [8.70698789],\n",
       "       [8.70698789],\n",
       "       [6.63504928],\n",
       "       [8.70698789],\n",
       "       [8.70698789],\n",
       "       [8.66321454],\n",
       "       [8.19629879],\n",
       "       [8.70698789],\n",
       "       [8.70698789],\n",
       "       [8.70698789],\n",
       "       [4.47556398],\n",
       "       [8.70698789]])"
      ]
     },
     "execution_count": 43,
     "metadata": {},
     "output_type": "execute_result"
    }
   ],
   "source": [
    "y_predicted"
   ]
  },
  {
   "cell_type": "code",
   "execution_count": 45,
   "metadata": {},
   "outputs": [],
   "source": [
    "r2_scr=r2_score(y,y_predicted)"
   ]
  },
  {
   "cell_type": "code",
   "execution_count": 47,
   "metadata": {},
   "outputs": [
    {
     "data": {
      "text/plain": [
       "0.6885788838864723"
      ]
     },
     "execution_count": 47,
     "metadata": {},
     "output_type": "execute_result"
    }
   ],
   "source": [
    "r2_scr"
   ]
  },
  {
   "cell_type": "code",
   "execution_count": 72,
   "metadata": {},
   "outputs": [],
   "source": [
    "y1_predicted=[]\n",
    "y1_predicted=np.array(y1_predicted)\n",
    "for i in range(len(y_predicted)):\n",
    "    if y_predicted[i]>8:\n",
    "        y1_predicted=np.append(y1_predicted,[8])\n",
    "    else:\n",
    "        y1_predicted=np.append(y1_predicted,y_predicted[i])\n"
   ]
  },
  {
   "cell_type": "code",
   "execution_count": 74,
   "metadata": {},
   "outputs": [
    {
     "name": "stdout",
     "output_type": "stream",
     "text": [
      "(100,)\n"
     ]
    }
   ],
   "source": [
    "print(y1_predicted.shape)"
   ]
  },
  {
   "cell_type": "code",
   "execution_count": 78,
   "metadata": {},
   "outputs": [
    {
     "data": {
      "text/plain": [
       "array([6.97064497, 8.        , 6.83932492, 8.        , 5.64285333,\n",
       "       8.        , 8.        , 8.        , 8.        , 8.        ,\n",
       "       8.        , 8.        , 8.        , 3.07481675, 5.7887645 ,\n",
       "       8.        , 4.03783047, 8.        , 8.        , 2.87054111,\n",
       "       5.46775993, 7.90447646, 8.        , 8.        , 8.        ,\n",
       "       5.43857769, 8.        , 2.89972335, 8.        , 8.        ,\n",
       "       8.        , 8.        , 8.        , 5.8763112 , 8.        ,\n",
       "       6.13895131, 8.        , 4.49015509, 8.        , 6.27027136,\n",
       "       5.54071551, 8.        , 8.        , 4.53392844, 8.        ,\n",
       "       8.        , 8.        , 8.        , 5.42398658, 6.02222237,\n",
       "       8.        , 8.        , 4.70902185, 8.        , 8.        ,\n",
       "       8.        , 5.75958227, 5.29266652, 5.84712897, 8.        ,\n",
       "       8.        , 8.        , 8.        , 8.        , 5.54071551,\n",
       "       6.00763125, 5.17593759, 8.        , 4.72361296, 8.        ,\n",
       "       8.        , 7.93365869, 8.        , 8.        , 5.56989775,\n",
       "       8.        , 3.06022563, 4.97166195, 8.        , 7.86070311,\n",
       "       5.62826221, 5.75958227, 8.        , 3.43959467, 8.        ,\n",
       "       5.77417338, 5.17593759, 8.        , 8.        , 8.        ,\n",
       "       6.63504928, 8.        , 8.        , 8.        , 8.        ,\n",
       "       8.        , 8.        , 8.        , 4.47556398, 8.        ])"
      ]
     },
     "execution_count": 78,
     "metadata": {},
     "output_type": "execute_result"
    }
   ],
   "source": [
    "y1_predicted"
   ]
  },
  {
   "cell_type": "code",
   "execution_count": 79,
   "metadata": {},
   "outputs": [],
   "source": [
    "rmse=mean_squared_error(y,y1_predicted)"
   ]
  },
  {
   "cell_type": "code",
   "execution_count": 80,
   "metadata": {},
   "outputs": [
    {
     "data": {
      "text/plain": [
       "1.5577673534029604"
      ]
     },
     "execution_count": 80,
     "metadata": {},
     "output_type": "execute_result"
    }
   ],
   "source": [
    "rmse"
   ]
  },
  {
   "cell_type": "code",
   "execution_count": 83,
   "metadata": {},
   "outputs": [],
   "source": [
    "r2_scr=r2_score(y,y1_predicted)"
   ]
  },
  {
   "cell_type": "code",
   "execution_count": 84,
   "metadata": {},
   "outputs": [
    {
     "data": {
      "text/plain": [
       "0.7387373770840835"
      ]
     },
     "execution_count": 84,
     "metadata": {},
     "output_type": "execute_result"
    }
   ],
   "source": [
    "r2_scr"
   ]
  },
  {
   "cell_type": "code",
   "execution_count": 87,
   "metadata": {},
   "outputs": [
    {
     "data": {
      "text/plain": [
       "<matplotlib.collections.PathCollection at 0x7fcb38a1fef0>"
      ]
     },
     "execution_count": 87,
     "metadata": {},
     "output_type": "execute_result"
    },
    {
     "data": {
      "image/png": "[encoded data removed]",
      "text/plain": [
       "<Figure size 432x288 with 1 Axes>"
      ]
     },
     "metadata": {
      "needs_background": "light"
     },
     "output_type": "display_data"
    }
   ],
   "source": [
    "plt.scatter(x,y,color='r')"
   ]
  },
  {
   "cell_type": "code",
   "execution_count": 90,
   "metadata": {},
   "outputs": [
    {
     "data": {
      "text/plain": [
       "<matplotlib.collections.PathCollection at 0x7fcb388d13c8>"
      ]
     },
     "execution_count": 90,
     "metadata": {},
     "output_type": "execute_result"
    },
    {
     "data": {
      "image/png": "[encoded data removed]",
      "text/plain": [
       "<Figure size 432x288 with 1 Axes>"
      ]
     },
     "metadata": {
      "needs_background": "light"
     },
     "output_type": "display_data"
    }
   ],
   "source": [
    "plt.scatter(x,y1_predicted)"
   ]
  },
  {
   "cell_type": "code",
   "execution_count": null,
   "metadata": {},
   "outputs": [],
   "source": []
  }
 ],
 "metadata": {
  "kernelspec": {
   "display_name": "Python 3",
   "language": "python",
   "name": "python3"
  },
  "language_info": {
   "codemirror_mode": {
    "name": "ipython",
    "version": 3
   },
   "file_extension": ".py",
   "mimetype": "text/x-python",
   "name": "python",
   "nbconvert_exporter": "python",
   "pygments_lexer": "ipython3",
   "version": "3.6.7"
  }
 },
 "nbformat": 4,
 "nbformat_minor": 2
}
