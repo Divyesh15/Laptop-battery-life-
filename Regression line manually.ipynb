{
 "cells": [
  {
   "cell_type": "code",
   "execution_count": 62,
   "metadata": {},
   "outputs": [],
   "source": [
    "import pandas as pd\n",
    "from sklearn.metrics import mean_squared_error,r2_score\n",
    "import matplotlib.pyplot as plt\n"
   ]
  },
  {
   "cell_type": "code",
   "execution_count": 4,
   "metadata": {},
   "outputs": [],
   "source": [
    "data=pd.read_csv('/home/divyesh/Desktop/Python/Machine learning/laptopbettery.csv',names=['chargetime','deadtime'])"
   ]
  },
  {
   "cell_type": "code",
   "execution_count": 5,
   "metadata": {},
   "outputs": [
    {
     "data": {
      "text/html": [
       "<div>\n",
       "<style scoped>\n",
       "    .dataframe tbody tr th:only-of-type {\n",
       "        vertical-align: middle;\n",
       "    }\n",
       "\n",
       "    .dataframe tbody tr th {\n",
       "        vertical-align: top;\n",
       "    }\n",
       "\n",
       "    .dataframe thead th {\n",
       "        text-align: right;\n",
       "    }\n",
       "</style>\n",
       "<table border=\"1\" class=\"dataframe\">\n",
       "  <thead>\n",
       "    <tr style=\"text-align: right;\">\n",
       "      <th></th>\n",
       "      <th>chargetime</th>\n",
       "      <th>deadtime</th>\n",
       "    </tr>\n",
       "  </thead>\n",
       "  <tbody>\n",
       "    <tr>\n",
       "      <th>0</th>\n",
       "      <td>2.81</td>\n",
       "      <td>5.62</td>\n",
       "    </tr>\n",
       "    <tr>\n",
       "      <th>1</th>\n",
       "      <td>7.14</td>\n",
       "      <td>8.00</td>\n",
       "    </tr>\n",
       "    <tr>\n",
       "      <th>2</th>\n",
       "      <td>2.72</td>\n",
       "      <td>5.44</td>\n",
       "    </tr>\n",
       "    <tr>\n",
       "      <th>3</th>\n",
       "      <td>3.87</td>\n",
       "      <td>7.74</td>\n",
       "    </tr>\n",
       "    <tr>\n",
       "      <th>4</th>\n",
       "      <td>1.90</td>\n",
       "      <td>3.80</td>\n",
       "    </tr>\n",
       "    <tr>\n",
       "      <th>5</th>\n",
       "      <td>7.82</td>\n",
       "      <td>8.00</td>\n",
       "    </tr>\n",
       "    <tr>\n",
       "      <th>6</th>\n",
       "      <td>7.02</td>\n",
       "      <td>8.00</td>\n",
       "    </tr>\n",
       "    <tr>\n",
       "      <th>7</th>\n",
       "      <td>5.50</td>\n",
       "      <td>8.00</td>\n",
       "    </tr>\n",
       "    <tr>\n",
       "      <th>8</th>\n",
       "      <td>9.15</td>\n",
       "      <td>8.00</td>\n",
       "    </tr>\n",
       "    <tr>\n",
       "      <th>9</th>\n",
       "      <td>4.87</td>\n",
       "      <td>8.00</td>\n",
       "    </tr>\n",
       "    <tr>\n",
       "      <th>10</th>\n",
       "      <td>8.08</td>\n",
       "      <td>8.00</td>\n",
       "    </tr>\n",
       "    <tr>\n",
       "      <th>11</th>\n",
       "      <td>5.58</td>\n",
       "      <td>8.00</td>\n",
       "    </tr>\n",
       "    <tr>\n",
       "      <th>12</th>\n",
       "      <td>9.13</td>\n",
       "      <td>8.00</td>\n",
       "    </tr>\n",
       "    <tr>\n",
       "      <th>13</th>\n",
       "      <td>0.14</td>\n",
       "      <td>0.28</td>\n",
       "    </tr>\n",
       "    <tr>\n",
       "      <th>14</th>\n",
       "      <td>2.00</td>\n",
       "      <td>4.00</td>\n",
       "    </tr>\n",
       "    <tr>\n",
       "      <th>15</th>\n",
       "      <td>5.47</td>\n",
       "      <td>8.00</td>\n",
       "    </tr>\n",
       "    <tr>\n",
       "      <th>16</th>\n",
       "      <td>0.80</td>\n",
       "      <td>1.60</td>\n",
       "    </tr>\n",
       "    <tr>\n",
       "      <th>17</th>\n",
       "      <td>4.37</td>\n",
       "      <td>8.00</td>\n",
       "    </tr>\n",
       "    <tr>\n",
       "      <th>18</th>\n",
       "      <td>5.31</td>\n",
       "      <td>8.00</td>\n",
       "    </tr>\n",
       "    <tr>\n",
       "      <th>19</th>\n",
       "      <td>0.00</td>\n",
       "      <td>0.00</td>\n",
       "    </tr>\n",
       "    <tr>\n",
       "      <th>20</th>\n",
       "      <td>1.78</td>\n",
       "      <td>3.56</td>\n",
       "    </tr>\n",
       "    <tr>\n",
       "      <th>21</th>\n",
       "      <td>3.45</td>\n",
       "      <td>6.90</td>\n",
       "    </tr>\n",
       "    <tr>\n",
       "      <th>22</th>\n",
       "      <td>6.13</td>\n",
       "      <td>8.00</td>\n",
       "    </tr>\n",
       "    <tr>\n",
       "      <th>23</th>\n",
       "      <td>3.53</td>\n",
       "      <td>7.06</td>\n",
       "    </tr>\n",
       "    <tr>\n",
       "      <th>24</th>\n",
       "      <td>4.61</td>\n",
       "      <td>8.00</td>\n",
       "    </tr>\n",
       "    <tr>\n",
       "      <th>25</th>\n",
       "      <td>1.76</td>\n",
       "      <td>3.52</td>\n",
       "    </tr>\n",
       "    <tr>\n",
       "      <th>26</th>\n",
       "      <td>6.39</td>\n",
       "      <td>8.00</td>\n",
       "    </tr>\n",
       "    <tr>\n",
       "      <th>27</th>\n",
       "      <td>0.02</td>\n",
       "      <td>0.04</td>\n",
       "    </tr>\n",
       "    <tr>\n",
       "      <th>28</th>\n",
       "      <td>9.69</td>\n",
       "      <td>8.00</td>\n",
       "    </tr>\n",
       "    <tr>\n",
       "      <th>29</th>\n",
       "      <td>5.33</td>\n",
       "      <td>8.00</td>\n",
       "    </tr>\n",
       "    <tr>\n",
       "      <th>...</th>\n",
       "      <td>...</td>\n",
       "      <td>...</td>\n",
       "    </tr>\n",
       "    <tr>\n",
       "      <th>70</th>\n",
       "      <td>5.39</td>\n",
       "      <td>8.00</td>\n",
       "    </tr>\n",
       "    <tr>\n",
       "      <th>71</th>\n",
       "      <td>3.47</td>\n",
       "      <td>6.94</td>\n",
       "    </tr>\n",
       "    <tr>\n",
       "      <th>72</th>\n",
       "      <td>6.48</td>\n",
       "      <td>8.00</td>\n",
       "    </tr>\n",
       "    <tr>\n",
       "      <th>73</th>\n",
       "      <td>4.11</td>\n",
       "      <td>8.00</td>\n",
       "    </tr>\n",
       "    <tr>\n",
       "      <th>74</th>\n",
       "      <td>1.85</td>\n",
       "      <td>3.70</td>\n",
       "    </tr>\n",
       "    <tr>\n",
       "      <th>75</th>\n",
       "      <td>8.79</td>\n",
       "      <td>8.00</td>\n",
       "    </tr>\n",
       "    <tr>\n",
       "      <th>76</th>\n",
       "      <td>0.13</td>\n",
       "      <td>0.26</td>\n",
       "    </tr>\n",
       "    <tr>\n",
       "      <th>77</th>\n",
       "      <td>1.44</td>\n",
       "      <td>2.88</td>\n",
       "    </tr>\n",
       "    <tr>\n",
       "      <th>78</th>\n",
       "      <td>5.96</td>\n",
       "      <td>8.00</td>\n",
       "    </tr>\n",
       "    <tr>\n",
       "      <th>79</th>\n",
       "      <td>3.42</td>\n",
       "      <td>6.84</td>\n",
       "    </tr>\n",
       "    <tr>\n",
       "      <th>80</th>\n",
       "      <td>1.89</td>\n",
       "      <td>3.78</td>\n",
       "    </tr>\n",
       "    <tr>\n",
       "      <th>81</th>\n",
       "      <td>1.98</td>\n",
       "      <td>3.96</td>\n",
       "    </tr>\n",
       "    <tr>\n",
       "      <th>82</th>\n",
       "      <td>5.26</td>\n",
       "      <td>8.00</td>\n",
       "    </tr>\n",
       "    <tr>\n",
       "      <th>83</th>\n",
       "      <td>0.39</td>\n",
       "      <td>0.78</td>\n",
       "    </tr>\n",
       "    <tr>\n",
       "      <th>84</th>\n",
       "      <td>6.05</td>\n",
       "      <td>8.00</td>\n",
       "    </tr>\n",
       "    <tr>\n",
       "      <th>85</th>\n",
       "      <td>1.99</td>\n",
       "      <td>3.98</td>\n",
       "    </tr>\n",
       "    <tr>\n",
       "      <th>86</th>\n",
       "      <td>1.58</td>\n",
       "      <td>3.16</td>\n",
       "    </tr>\n",
       "    <tr>\n",
       "      <th>87</th>\n",
       "      <td>3.99</td>\n",
       "      <td>7.98</td>\n",
       "    </tr>\n",
       "    <tr>\n",
       "      <th>88</th>\n",
       "      <td>4.35</td>\n",
       "      <td>8.00</td>\n",
       "    </tr>\n",
       "    <tr>\n",
       "      <th>89</th>\n",
       "      <td>6.71</td>\n",
       "      <td>8.00</td>\n",
       "    </tr>\n",
       "    <tr>\n",
       "      <th>90</th>\n",
       "      <td>2.58</td>\n",
       "      <td>5.16</td>\n",
       "    </tr>\n",
       "    <tr>\n",
       "      <th>91</th>\n",
       "      <td>7.37</td>\n",
       "      <td>8.00</td>\n",
       "    </tr>\n",
       "    <tr>\n",
       "      <th>92</th>\n",
       "      <td>5.77</td>\n",
       "      <td>8.00</td>\n",
       "    </tr>\n",
       "    <tr>\n",
       "      <th>93</th>\n",
       "      <td>3.97</td>\n",
       "      <td>7.94</td>\n",
       "    </tr>\n",
       "    <tr>\n",
       "      <th>94</th>\n",
       "      <td>3.65</td>\n",
       "      <td>7.30</td>\n",
       "    </tr>\n",
       "    <tr>\n",
       "      <th>95</th>\n",
       "      <td>4.38</td>\n",
       "      <td>8.00</td>\n",
       "    </tr>\n",
       "    <tr>\n",
       "      <th>96</th>\n",
       "      <td>8.06</td>\n",
       "      <td>8.00</td>\n",
       "    </tr>\n",
       "    <tr>\n",
       "      <th>97</th>\n",
       "      <td>8.05</td>\n",
       "      <td>8.00</td>\n",
       "    </tr>\n",
       "    <tr>\n",
       "      <th>98</th>\n",
       "      <td>1.10</td>\n",
       "      <td>2.20</td>\n",
       "    </tr>\n",
       "    <tr>\n",
       "      <th>99</th>\n",
       "      <td>6.65</td>\n",
       "      <td>8.00</td>\n",
       "    </tr>\n",
       "  </tbody>\n",
       "</table>\n",
       "<p>100 rows × 2 columns</p>\n",
       "</div>"
      ],
      "text/plain": [
       "    chargetime  deadtime\n",
       "0         2.81      5.62\n",
       "1         7.14      8.00\n",
       "2         2.72      5.44\n",
       "3         3.87      7.74\n",
       "4         1.90      3.80\n",
       "5         7.82      8.00\n",
       "6         7.02      8.00\n",
       "7         5.50      8.00\n",
       "8         9.15      8.00\n",
       "9         4.87      8.00\n",
       "10        8.08      8.00\n",
       "11        5.58      8.00\n",
       "12        9.13      8.00\n",
       "13        0.14      0.28\n",
       "14        2.00      4.00\n",
       "15        5.47      8.00\n",
       "16        0.80      1.60\n",
       "17        4.37      8.00\n",
       "18        5.31      8.00\n",
       "19        0.00      0.00\n",
       "20        1.78      3.56\n",
       "21        3.45      6.90\n",
       "22        6.13      8.00\n",
       "23        3.53      7.06\n",
       "24        4.61      8.00\n",
       "25        1.76      3.52\n",
       "26        6.39      8.00\n",
       "27        0.02      0.04\n",
       "28        9.69      8.00\n",
       "29        5.33      8.00\n",
       "..         ...       ...\n",
       "70        5.39      8.00\n",
       "71        3.47      6.94\n",
       "72        6.48      8.00\n",
       "73        4.11      8.00\n",
       "74        1.85      3.70\n",
       "75        8.79      8.00\n",
       "76        0.13      0.26\n",
       "77        1.44      2.88\n",
       "78        5.96      8.00\n",
       "79        3.42      6.84\n",
       "80        1.89      3.78\n",
       "81        1.98      3.96\n",
       "82        5.26      8.00\n",
       "83        0.39      0.78\n",
       "84        6.05      8.00\n",
       "85        1.99      3.98\n",
       "86        1.58      3.16\n",
       "87        3.99      7.98\n",
       "88        4.35      8.00\n",
       "89        6.71      8.00\n",
       "90        2.58      5.16\n",
       "91        7.37      8.00\n",
       "92        5.77      8.00\n",
       "93        3.97      7.94\n",
       "94        3.65      7.30\n",
       "95        4.38      8.00\n",
       "96        8.06      8.00\n",
       "97        8.05      8.00\n",
       "98        1.10      2.20\n",
       "99        6.65      8.00\n",
       "\n",
       "[100 rows x 2 columns]"
      ]
     },
     "execution_count": 5,
     "metadata": {},
     "output_type": "execute_result"
    }
   ],
   "source": [
    "data"
   ]
  },
  {
   "cell_type": "code",
   "execution_count": 6,
   "metadata": {},
   "outputs": [],
   "source": [
    "d1=data.values"
   ]
  },
  {
   "cell_type": "code",
   "execution_count": 7,
   "metadata": {},
   "outputs": [
    {
     "data": {
      "text/plain": [
       "array([[ 2.81,  5.62],\n",
       "       [ 7.14,  8.  ],\n",
       "       [ 2.72,  5.44],\n",
       "       [ 3.87,  7.74],\n",
       "       [ 1.9 ,  3.8 ],\n",
       "       [ 7.82,  8.  ],\n",
       "       [ 7.02,  8.  ],\n",
       "       [ 5.5 ,  8.  ],\n",
       "       [ 9.15,  8.  ],\n",
       "       [ 4.87,  8.  ],\n",
       "       [ 8.08,  8.  ],\n",
       "       [ 5.58,  8.  ],\n",
       "       [ 9.13,  8.  ],\n",
       "       [ 0.14,  0.28],\n",
       "       [ 2.  ,  4.  ],\n",
       "       [ 5.47,  8.  ],\n",
       "       [ 0.8 ,  1.6 ],\n",
       "       [ 4.37,  8.  ],\n",
       "       [ 5.31,  8.  ],\n",
       "       [ 0.  ,  0.  ],\n",
       "       [ 1.78,  3.56],\n",
       "       [ 3.45,  6.9 ],\n",
       "       [ 6.13,  8.  ],\n",
       "       [ 3.53,  7.06],\n",
       "       [ 4.61,  8.  ],\n",
       "       [ 1.76,  3.52],\n",
       "       [ 6.39,  8.  ],\n",
       "       [ 0.02,  0.04],\n",
       "       [ 9.69,  8.  ],\n",
       "       [ 5.33,  8.  ],\n",
       "       [ 6.37,  8.  ],\n",
       "       [ 5.55,  8.  ],\n",
       "       [ 7.8 ,  8.  ],\n",
       "       [ 2.06,  4.12],\n",
       "       [ 7.79,  8.  ],\n",
       "       [ 2.24,  4.48],\n",
       "       [ 9.71,  8.  ],\n",
       "       [ 1.11,  2.22],\n",
       "       [ 8.38,  8.  ],\n",
       "       [ 2.33,  4.66],\n",
       "       [ 1.83,  3.66],\n",
       "       [ 5.94,  8.  ],\n",
       "       [ 9.2 ,  8.  ],\n",
       "       [ 1.14,  2.28],\n",
       "       [ 4.15,  8.  ],\n",
       "       [ 8.43,  8.  ],\n",
       "       [ 5.68,  8.  ],\n",
       "       [ 8.21,  8.  ],\n",
       "       [ 1.75,  3.5 ],\n",
       "       [ 2.16,  4.32],\n",
       "       [ 4.93,  8.  ],\n",
       "       [ 5.75,  8.  ],\n",
       "       [ 1.26,  2.52],\n",
       "       [ 3.97,  7.94],\n",
       "       [ 4.39,  8.  ],\n",
       "       [ 7.53,  8.  ],\n",
       "       [ 1.98,  3.96],\n",
       "       [ 1.66,  3.32],\n",
       "       [ 2.04,  4.08],\n",
       "       [11.72,  8.  ],\n",
       "       [ 4.64,  8.  ],\n",
       "       [ 4.71,  8.  ],\n",
       "       [ 3.77,  7.54],\n",
       "       [ 9.33,  8.  ],\n",
       "       [ 1.83,  3.66],\n",
       "       [ 2.15,  4.3 ],\n",
       "       [ 1.58,  3.16],\n",
       "       [ 9.29,  8.  ],\n",
       "       [ 1.27,  2.54],\n",
       "       [ 8.49,  8.  ],\n",
       "       [ 5.39,  8.  ],\n",
       "       [ 3.47,  6.94],\n",
       "       [ 6.48,  8.  ],\n",
       "       [ 4.11,  8.  ],\n",
       "       [ 1.85,  3.7 ],\n",
       "       [ 8.79,  8.  ],\n",
       "       [ 0.13,  0.26],\n",
       "       [ 1.44,  2.88],\n",
       "       [ 5.96,  8.  ],\n",
       "       [ 3.42,  6.84],\n",
       "       [ 1.89,  3.78],\n",
       "       [ 1.98,  3.96],\n",
       "       [ 5.26,  8.  ],\n",
       "       [ 0.39,  0.78],\n",
       "       [ 6.05,  8.  ],\n",
       "       [ 1.99,  3.98],\n",
       "       [ 1.58,  3.16],\n",
       "       [ 3.99,  7.98],\n",
       "       [ 4.35,  8.  ],\n",
       "       [ 6.71,  8.  ],\n",
       "       [ 2.58,  5.16],\n",
       "       [ 7.37,  8.  ],\n",
       "       [ 5.77,  8.  ],\n",
       "       [ 3.97,  7.94],\n",
       "       [ 3.65,  7.3 ],\n",
       "       [ 4.38,  8.  ],\n",
       "       [ 8.06,  8.  ],\n",
       "       [ 8.05,  8.  ],\n",
       "       [ 1.1 ,  2.2 ],\n",
       "       [ 6.65,  8.  ]])"
      ]
     },
     "execution_count": 7,
     "metadata": {},
     "output_type": "execute_result"
    }
   ],
   "source": [
    "d1"
   ]
  },
  {
   "cell_type": "code",
   "execution_count": 8,
   "metadata": {},
   "outputs": [
    {
     "data": {
      "text/plain": [
       "200"
      ]
     },
     "execution_count": 8,
     "metadata": {},
     "output_type": "execute_result"
    }
   ],
   "source": [
    "d1.size"
   ]
  },
  {
   "cell_type": "code",
   "execution_count": 9,
   "metadata": {},
   "outputs": [
    {
     "data": {
      "text/plain": [
       "(100, 2)"
      ]
     },
     "execution_count": 9,
     "metadata": {},
     "output_type": "execute_result"
    }
   ],
   "source": [
    "d1.shape"
   ]
  },
  {
   "cell_type": "code",
   "execution_count": 10,
   "metadata": {},
   "outputs": [
    {
     "data": {
      "text/plain": [
       "array([7.14, 8.  ])"
      ]
     },
     "execution_count": 10,
     "metadata": {},
     "output_type": "execute_result"
    }
   ],
   "source": [
    "d1[1]"
   ]
  },
  {
   "cell_type": "code",
   "execution_count": 11,
   "metadata": {},
   "outputs": [
    {
     "data": {
      "text/plain": [
       "8.0"
      ]
     },
     "execution_count": 11,
     "metadata": {},
     "output_type": "execute_result"
    }
   ],
   "source": [
    "d1[1][1]"
   ]
  },
  {
   "cell_type": "code",
   "execution_count": 12,
   "metadata": {},
   "outputs": [
    {
     "data": {
      "text/plain": [
       "array([2.81, 5.62])"
      ]
     },
     "execution_count": 12,
     "metadata": {},
     "output_type": "execute_result"
    }
   ],
   "source": [
    "d1[0]"
   ]
  },
  {
   "cell_type": "code",
   "execution_count": 13,
   "metadata": {},
   "outputs": [],
   "source": [
    "a1=d1[:,[0]]\n",
    "a2=d1[:,[1]]"
   ]
  },
  {
   "cell_type": "code",
   "execution_count": 14,
   "metadata": {},
   "outputs": [
    {
     "name": "stdout",
     "output_type": "stream",
     "text": [
      "h\n"
     ]
    }
   ],
   "source": [
    "print(\"h\")"
   ]
  },
  {
   "cell_type": "code",
   "execution_count": 15,
   "metadata": {},
   "outputs": [],
   "source": [
    "import numpy as np\n",
    "m1=np.mean(a1)\n",
    "m2=np.mean(a2)"
   ]
  },
  {
   "cell_type": "code",
   "execution_count": 16,
   "metadata": {},
   "outputs": [
    {
     "name": "stdout",
     "output_type": "stream",
     "text": [
      "4.573 6.206799999999999\n"
     ]
    }
   ],
   "source": [
    "print(m1,m2)\n"
   ]
  },
  {
   "cell_type": "code",
   "execution_count": 17,
   "metadata": {},
   "outputs": [],
   "source": [
    "a3=a1-m1\n",
    "a4=a2-m2"
   ]
  },
  {
   "cell_type": "code",
   "execution_count": 18,
   "metadata": {},
   "outputs": [],
   "source": [
    "mul=a3*a4"
   ]
  },
  {
   "cell_type": "code",
   "execution_count": 19,
   "metadata": {},
   "outputs": [
    {
     "data": {
      "text/plain": [
       "array([[ 1.0345284],\n",
       "       [ 4.6031444],\n",
       "       [ 1.4208804],\n",
       "       [-1.0778396],\n",
       "       [ 6.4333764],\n",
       "       [ 5.8225204],\n",
       "       [ 4.3879604],\n",
       "       [ 1.6622964],\n",
       "       [ 8.2074764],\n",
       "       [ 0.5325804],\n",
       "       [ 6.2887524],\n",
       "       [ 1.8057524],\n",
       "       [ 8.1716124],\n",
       "       [26.2735044],\n",
       "       [ 5.6780964],\n",
       "       [ 1.6085004],\n",
       "       [17.3814564],\n",
       "       [-0.3640196],\n",
       "       [ 1.3215884],\n",
       "       [28.3836964],\n",
       "       [ 7.3925124],\n",
       "       [-0.7784636],\n",
       "       [ 2.7920124],\n",
       "       [-0.8898876],\n",
       "       [ 0.0663484],\n",
       "       [ 7.5579684],\n",
       "       [ 3.2582444],\n",
       "       [28.0774404],\n",
       "       [ 9.1758044],\n",
       "       [ 1.3574524],\n",
       "       [ 3.2223804],\n",
       "       [ 1.7519564],\n",
       "       [ 5.7866564],\n",
       "       [ 5.2441284],\n",
       "       [ 5.7687244],\n",
       "       [ 4.0286244],\n",
       "       [ 9.2116684],\n",
       "       [13.8062884],\n",
       "       [ 6.8267124],\n",
       "       [ 3.4694724],\n",
       "       [ 6.9858724],\n",
       "       [ 2.4513044],\n",
       "       [ 8.2971364],\n",
       "       [13.4807044],\n",
       "       [-0.7585236],\n",
       "       [ 6.9163724],\n",
       "       [ 1.9850724],\n",
       "       [ 6.5218684],\n",
       "       [ 7.6412964],\n",
       "       [ 4.5528484],\n",
       "       [ 0.6401724],\n",
       "       [ 2.1105964],\n",
       "       [12.2143684],\n",
       "       [-1.0451196],\n",
       "       [-0.3281556],\n",
       "       [ 5.3024924],\n",
       "       [ 5.8259524],\n",
       "       [ 8.4092484],\n",
       "       [ 5.3871844],\n",
       "       [12.8160004],\n",
       "       [ 0.1201444],\n",
       "       [ 0.2456684],\n",
       "       [-1.0705596],\n",
       "       [ 8.5302524],\n",
       "       [ 6.9858724],\n",
       "       [ 4.6201764],\n",
       "       [ 9.1190724],\n",
       "       [ 8.4585244],\n",
       "       [12.1114404],\n",
       "       [ 7.0239644],\n",
       "       [ 1.4650444],\n",
       "       [-0.8087196],\n",
       "       [ 3.4196324],\n",
       "       [-0.8302516],\n",
       "       [ 6.8260164],\n",
       "       [ 7.5619244],\n",
       "       [26.4216324],\n",
       "       [10.4228644],\n",
       "       [ 2.4871684],\n",
       "       [-0.7300796],\n",
       "       [ 6.5111044],\n",
       "       [ 5.8259524],\n",
       "       [ 1.2319284],\n",
       "       [22.7003044],\n",
       "       [ 2.6485564],\n",
       "       [ 5.7518244],\n",
       "       [ 9.1190724],\n",
       "       [-1.0337756],\n",
       "       [-0.3998836],\n",
       "       [ 3.8320684],\n",
       "       [ 2.0862724],\n",
       "       [ 5.0155804],\n",
       "       [ 2.1464604],\n",
       "       [-1.0451196],\n",
       "       [-1.0090236],\n",
       "       [-0.3460876],\n",
       "       [ 6.2528884],\n",
       "       [ 6.2349564],\n",
       "       [13.9156164],\n",
       "       [ 3.7244764]])"
      ]
     },
     "execution_count": 19,
     "metadata": {},
     "output_type": "execute_result"
    }
   ],
   "source": [
    "mul"
   ]
  },
  {
   "cell_type": "code",
   "execution_count": 20,
   "metadata": {},
   "outputs": [],
   "source": [
    "s1=np.sum(mul)"
   ]
  },
  {
   "cell_type": "code",
   "execution_count": 21,
   "metadata": {},
   "outputs": [
    {
     "data": {
      "text/plain": [
       "561.6515599999999"
      ]
     },
     "execution_count": 21,
     "metadata": {},
     "output_type": "execute_result"
    }
   ],
   "source": [
    "s1"
   ]
  },
  {
   "cell_type": "code",
   "execution_count": 22,
   "metadata": {},
   "outputs": [],
   "source": [
    "from numpy import *\n",
    "a=[1,2,3,4]\n",
    "a=np.array(a)\n",
    "a=a**2"
   ]
  },
  {
   "cell_type": "code",
   "execution_count": 23,
   "metadata": {},
   "outputs": [
    {
     "data": {
      "text/plain": [
       "array([ 1,  4,  9, 16])"
      ]
     },
     "execution_count": 23,
     "metadata": {},
     "output_type": "execute_result"
    }
   ],
   "source": [
    "a"
   ]
  },
  {
   "cell_type": "code",
   "execution_count": 24,
   "metadata": {},
   "outputs": [],
   "source": [
    "sq1=(a3**2)\n",
    "sq2=(a4**2)"
   ]
  },
  {
   "cell_type": "code",
   "execution_count": 25,
   "metadata": {},
   "outputs": [
    {
     "data": {
      "text/plain": [
       "2.0"
      ]
     },
     "execution_count": 25,
     "metadata": {},
     "output_type": "execute_result"
    }
   ],
   "source": [
    "np.sqrt(4)"
   ]
  },
  {
   "cell_type": "code",
   "execution_count": 26,
   "metadata": {},
   "outputs": [],
   "source": [
    "s2=np.sqrt(np.sum(sq1))\n",
    "s3=np.sqrt(np.sum(sq2))"
   ]
  },
  {
   "cell_type": "code",
   "execution_count": 27,
   "metadata": {},
   "outputs": [
    {
     "name": "stdout",
     "output_type": "stream",
     "text": [
      "4.573 6.206799999999999\n"
     ]
    }
   ],
   "source": [
    "m2=np.mean(a2)\n",
    "m1=np.mean(a1)\n",
    "print(m1,m2)"
   ]
  },
  {
   "cell_type": "code",
   "execution_count": 28,
   "metadata": {},
   "outputs": [],
   "source": [
    "b1=s1/(s2*s3)"
   ]
  },
  {
   "cell_type": "code",
   "execution_count": 29,
   "metadata": {},
   "outputs": [],
   "source": [
    "b0=m2-(b1*m1)"
   ]
  },
  {
   "cell_type": "code",
   "execution_count": 48,
   "metadata": {},
   "outputs": [
    {
     "name": "stdout",
     "output_type": "stream",
     "text": [
      "4.7452879157957675\n"
     ]
    }
   ],
   "source": [
    "# y=b0+b1*x\n",
    "y1=b0+(b1*(2.81))\n",
    "if(y1<=8):\n",
    "    print(y1)\n",
    "else:\n",
    "    print(8)\n",
    "    \n",
    "        "
   ]
  },
  {
   "cell_type": "code",
   "execution_count": 111,
   "metadata": {},
   "outputs": [
    {
     "name": "stdout",
     "output_type": "stream",
     "text": [
      "(0.9933992677987827, 0.07318639504032803)\n"
     ]
    }
   ],
   "source": [
    "from scipy.stats.stats import pearsonr   \n",
    "a = [1,4,6]\n",
    "b = [1,2,3]   \n",
    "print(pearsonr(a,b))"
   ]
  },
  {
   "cell_type": "code",
   "execution_count": 112,
   "metadata": {},
   "outputs": [
    {
     "data": {
      "text/plain": [
       "array([27])"
      ]
     },
     "execution_count": 112,
     "metadata": {},
     "output_type": "execute_result"
    }
   ],
   "source": [
    "np.correlate(a,b)"
   ]
  },
  {
   "cell_type": "code",
   "execution_count": 39,
   "metadata": {},
   "outputs": [
    {
     "name": "stdout",
     "output_type": "stream",
     "text": [
      "(1,)\n"
     ]
    }
   ],
   "source": [
    "x1=[1]\n",
    "\n",
    "x1=np.array(x1)\n",
    "print(x1.shape)"
   ]
  },
  {
   "cell_type": "code",
   "execution_count": 41,
   "metadata": {},
   "outputs": [
    {
     "ename": "ValueError",
     "evalue": "cannot reshape array of size 1 into shape (0,1)",
     "output_type": "error",
     "traceback": [
      "\u001b[0;31m---------------------------------------------------------------------------\u001b[0m",
      "\u001b[0;31mValueError\u001b[0m                                Traceback (most recent call last)",
      "\u001b[0;32m<ipython-input-41-0071e3d5872e>\u001b[0m in \u001b[0;36m<module>\u001b[0;34m\u001b[0m\n\u001b[0;32m----> 1\u001b[0;31m \u001b[0mx1\u001b[0m\u001b[0;34m=\u001b[0m\u001b[0mnp\u001b[0m\u001b[0;34m.\u001b[0m\u001b[0mreshape\u001b[0m\u001b[0;34m(\u001b[0m\u001b[0mx1\u001b[0m\u001b[0;34m,\u001b[0m\u001b[0;34m(\u001b[0m\u001b[0;36m0\u001b[0m\u001b[0;34m,\u001b[0m\u001b[0;36m1\u001b[0m\u001b[0;34m)\u001b[0m\u001b[0;34m)\u001b[0m\u001b[0;34m\u001b[0m\u001b[0;34m\u001b[0m\u001b[0m\n\u001b[0m",
      "\u001b[0;32m~/.local/lib/python3.6/site-packages/numpy/core/fromnumeric.py\u001b[0m in \u001b[0;36mreshape\u001b[0;34m(a, newshape, order)\u001b[0m\n\u001b[1;32m    290\u001b[0m            [5, 6]])\n\u001b[1;32m    291\u001b[0m     \"\"\"\n\u001b[0;32m--> 292\u001b[0;31m     \u001b[0;32mreturn\u001b[0m \u001b[0m_wrapfunc\u001b[0m\u001b[0;34m(\u001b[0m\u001b[0ma\u001b[0m\u001b[0;34m,\u001b[0m \u001b[0;34m'reshape'\u001b[0m\u001b[0;34m,\u001b[0m \u001b[0mnewshape\u001b[0m\u001b[0;34m,\u001b[0m \u001b[0morder\u001b[0m\u001b[0;34m=\u001b[0m\u001b[0morder\u001b[0m\u001b[0;34m)\u001b[0m\u001b[0;34m\u001b[0m\u001b[0;34m\u001b[0m\u001b[0m\n\u001b[0m\u001b[1;32m    293\u001b[0m \u001b[0;34m\u001b[0m\u001b[0m\n\u001b[1;32m    294\u001b[0m \u001b[0;34m\u001b[0m\u001b[0m\n",
      "\u001b[0;32m~/.local/lib/python3.6/site-packages/numpy/core/fromnumeric.py\u001b[0m in \u001b[0;36m_wrapfunc\u001b[0;34m(obj, method, *args, **kwds)\u001b[0m\n\u001b[1;32m     54\u001b[0m \u001b[0;32mdef\u001b[0m \u001b[0m_wrapfunc\u001b[0m\u001b[0;34m(\u001b[0m\u001b[0mobj\u001b[0m\u001b[0;34m,\u001b[0m \u001b[0mmethod\u001b[0m\u001b[0;34m,\u001b[0m \u001b[0;34m*\u001b[0m\u001b[0margs\u001b[0m\u001b[0;34m,\u001b[0m \u001b[0;34m**\u001b[0m\u001b[0mkwds\u001b[0m\u001b[0;34m)\u001b[0m\u001b[0;34m:\u001b[0m\u001b[0;34m\u001b[0m\u001b[0;34m\u001b[0m\u001b[0m\n\u001b[1;32m     55\u001b[0m     \u001b[0;32mtry\u001b[0m\u001b[0;34m:\u001b[0m\u001b[0;34m\u001b[0m\u001b[0;34m\u001b[0m\u001b[0m\n\u001b[0;32m---> 56\u001b[0;31m         \u001b[0;32mreturn\u001b[0m \u001b[0mgetattr\u001b[0m\u001b[0;34m(\u001b[0m\u001b[0mobj\u001b[0m\u001b[0;34m,\u001b[0m \u001b[0mmethod\u001b[0m\u001b[0;34m)\u001b[0m\u001b[0;34m(\u001b[0m\u001b[0;34m*\u001b[0m\u001b[0margs\u001b[0m\u001b[0;34m,\u001b[0m \u001b[0;34m**\u001b[0m\u001b[0mkwds\u001b[0m\u001b[0;34m)\u001b[0m\u001b[0;34m\u001b[0m\u001b[0;34m\u001b[0m\u001b[0m\n\u001b[0m\u001b[1;32m     57\u001b[0m \u001b[0;34m\u001b[0m\u001b[0m\n\u001b[1;32m     58\u001b[0m     \u001b[0;31m# An AttributeError occurs if the object does not have\u001b[0m\u001b[0;34m\u001b[0m\u001b[0;34m\u001b[0m\u001b[0;34m\u001b[0m\u001b[0m\n",
      "\u001b[0;31mValueError\u001b[0m: cannot reshape array of size 1 into shape (0,1)"
     ]
    }
   ],
   "source": [
    "x1=np.reshape(x1,((0,1))\n"
   ]
  },
  {
   "cell_type": "code",
   "execution_count": 40,
   "metadata": {},
   "outputs": [
    {
     "ename": "NameError",
     "evalue": "name 'x2' is not defined",
     "output_type": "error",
     "traceback": [
      "\u001b[0;31m---------------------------------------------------------------------------\u001b[0m",
      "\u001b[0;31mNameError\u001b[0m                                 Traceback (most recent call last)",
      "\u001b[0;32m<ipython-input-40-61e4e65ca166>\u001b[0m in \u001b[0;36m<module>\u001b[0;34m\u001b[0m\n\u001b[0;32m----> 1\u001b[0;31m \u001b[0mx2\u001b[0m\u001b[0;34m.\u001b[0m\u001b[0mshape\u001b[0m\u001b[0;34m\u001b[0m\u001b[0;34m\u001b[0m\u001b[0m\n\u001b[0m",
      "\u001b[0;31mNameError\u001b[0m: name 'x2' is not defined"
     ]
    }
   ],
   "source": [
    "x2.shape\n"
   ]
  },
  {
   "cell_type": "code",
   "execution_count": 45,
   "metadata": {},
   "outputs": [],
   "source": [
    "y_predicted=b0+b1*(a1)"
   ]
  },
  {
   "cell_type": "code",
   "execution_count": 46,
   "metadata": {},
   "outputs": [
    {
     "data": {
      "text/plain": [
       "array([[ 4.74528792],\n",
       "       [ 8.33482128],\n",
       "       [ 4.67067868],\n",
       "       [ 5.62401895],\n",
       "       [ 3.99090561],\n",
       "       [ 8.89853553],\n",
       "       [ 8.2353423 ],\n",
       "       [ 6.97527516],\n",
       "       [10.00109428],\n",
       "       [ 6.45301049],\n",
       "       [ 9.11407333],\n",
       "       [ 7.04159448],\n",
       "       [ 9.98451445],\n",
       "       [ 2.53188051],\n",
       "       [ 4.07380477],\n",
       "       [ 6.95040541],\n",
       "       [ 3.07901492],\n",
       "       [ 6.03851472],\n",
       "       [ 6.81776676],\n",
       "       [ 2.41582169],\n",
       "       [ 3.89142663],\n",
       "       [ 5.2758425 ],\n",
       "       [ 7.49753983],\n",
       "       [ 5.34216182],\n",
       "       [ 6.23747269],\n",
       "       [ 3.8748468 ],\n",
       "       [ 7.71307763],\n",
       "       [ 2.43240152],\n",
       "       [10.44874971],\n",
       "       [ 6.8343466 ],\n",
       "       [ 7.6964978 ],\n",
       "       [ 7.01672473],\n",
       "       [ 8.8819557 ],\n",
       "       [ 4.12354426],\n",
       "       [ 8.87366578],\n",
       "       [ 4.27276274],\n",
       "       [10.46532954],\n",
       "       [ 3.3360023 ],\n",
       "       [ 9.36277079],\n",
       "       [ 4.34737198],\n",
       "       [ 3.93287621],\n",
       "       [ 7.34003143],\n",
       "       [10.04254385],\n",
       "       [ 3.36087204],\n",
       "       [ 5.85613658],\n",
       "       [ 9.40422037],\n",
       "       [ 7.12449363],\n",
       "       [ 9.22184223],\n",
       "       [ 3.86655688],\n",
       "       [ 4.20644342],\n",
       "       [ 6.50274998],\n",
       "       [ 7.18252304],\n",
       "       [ 3.46035103],\n",
       "       [ 5.7069181 ],\n",
       "       [ 6.05509455],\n",
       "       [ 8.65812798],\n",
       "       [ 4.05722494],\n",
       "       [ 3.79194765],\n",
       "       [ 4.10696443],\n",
       "       [12.13160253],\n",
       "       [ 6.26234243],\n",
       "       [ 6.32037184],\n",
       "       [ 5.54111979],\n",
       "       [10.15031275],\n",
       "       [ 3.93287621],\n",
       "       [ 4.1981535 ],\n",
       "       [ 3.72562832],\n",
       "       [10.11715309],\n",
       "       [ 3.46864094],\n",
       "       [ 9.45395986],\n",
       "       [ 6.88408609],\n",
       "       [ 5.29242233],\n",
       "       [ 7.78768687],\n",
       "       [ 5.82297692],\n",
       "       [ 3.94945604],\n",
       "       [ 9.70265732],\n",
       "       [ 2.52359059],\n",
       "       [ 3.60956951],\n",
       "       [ 7.35661127],\n",
       "       [ 5.25097275],\n",
       "       [ 3.9826157 ],\n",
       "       [ 4.05722494],\n",
       "       [ 6.77631719],\n",
       "       [ 2.73912839],\n",
       "       [ 7.4312205 ],\n",
       "       [ 4.06551485],\n",
       "       [ 3.72562832],\n",
       "       [ 5.72349793],\n",
       "       [ 6.02193489],\n",
       "       [ 7.97835492],\n",
       "       [ 4.55461986],\n",
       "       [ 8.52548934],\n",
       "       [ 7.19910287],\n",
       "       [ 5.7069181 ],\n",
       "       [ 5.44164081],\n",
       "       [ 6.04680463],\n",
       "       [ 9.0974935 ],\n",
       "       [ 9.08920358],\n",
       "       [ 3.32771238],\n",
       "       [ 7.92861543]])"
      ]
     },
     "execution_count": 46,
     "metadata": {},
     "output_type": "execute_result"
    }
   ],
   "source": [
    "y_predicted"
   ]
  },
  {
   "cell_type": "code",
   "execution_count": 49,
   "metadata": {},
   "outputs": [],
   "source": [
    "rmse=mean_squared_error(a2,y_predicted)"
   ]
  },
  {
   "cell_type": "code",
   "execution_count": 50,
   "metadata": {},
   "outputs": [
    {
     "data": {
      "text/plain": [
       "1.9410149568964477"
      ]
     },
     "execution_count": 50,
     "metadata": {},
     "output_type": "execute_result"
    }
   ],
   "source": [
    "rmse"
   ]
  },
  {
   "cell_type": "code",
   "execution_count": 53,
   "metadata": {},
   "outputs": [],
   "source": [
    "r2_scr=r2_score(a2,y_predicted)"
   ]
  },
  {
   "cell_type": "code",
   "execution_count": 54,
   "metadata": {},
   "outputs": [
    {
     "data": {
      "text/plain": [
       "0.6744605940996307"
      ]
     },
     "execution_count": 54,
     "metadata": {},
     "output_type": "execute_result"
    }
   ],
   "source": [
    "r2_scr"
   ]
  },
  {
   "cell_type": "code",
   "execution_count": 55,
   "metadata": {},
   "outputs": [],
   "source": [
    "y1_predicted=[]\n",
    "y1_predicted=np.array(y1_predicted)\n",
    "for i in range(len(y_predicted)):\n",
    "    if y_predicted[i]>8:\n",
    "        y1_predicted=np.append(y1_predicted,[8])\n",
    "    else:\n",
    "        y1_predicted=np.append(y1_predicted,y_predicted[i])"
   ]
  },
  {
   "cell_type": "code",
   "execution_count": 56,
   "metadata": {},
   "outputs": [
    {
     "data": {
      "text/plain": [
       "array([4.74528792, 8.        , 4.67067868, 5.62401895, 3.99090561,\n",
       "       8.        , 8.        , 6.97527516, 8.        , 6.45301049,\n",
       "       8.        , 7.04159448, 8.        , 2.53188051, 4.07380477,\n",
       "       6.95040541, 3.07901492, 6.03851472, 6.81776676, 2.41582169,\n",
       "       3.89142663, 5.2758425 , 7.49753983, 5.34216182, 6.23747269,\n",
       "       3.8748468 , 7.71307763, 2.43240152, 8.        , 6.8343466 ,\n",
       "       7.6964978 , 7.01672473, 8.        , 4.12354426, 8.        ,\n",
       "       4.27276274, 8.        , 3.3360023 , 8.        , 4.34737198,\n",
       "       3.93287621, 7.34003143, 8.        , 3.36087204, 5.85613658,\n",
       "       8.        , 7.12449363, 8.        , 3.86655688, 4.20644342,\n",
       "       6.50274998, 7.18252304, 3.46035103, 5.7069181 , 6.05509455,\n",
       "       8.        , 4.05722494, 3.79194765, 4.10696443, 8.        ,\n",
       "       6.26234243, 6.32037184, 5.54111979, 8.        , 3.93287621,\n",
       "       4.1981535 , 3.72562832, 8.        , 3.46864094, 8.        ,\n",
       "       6.88408609, 5.29242233, 7.78768687, 5.82297692, 3.94945604,\n",
       "       8.        , 2.52359059, 3.60956951, 7.35661127, 5.25097275,\n",
       "       3.9826157 , 4.05722494, 6.77631719, 2.73912839, 7.4312205 ,\n",
       "       4.06551485, 3.72562832, 5.72349793, 6.02193489, 7.97835492,\n",
       "       4.55461986, 8.        , 7.19910287, 5.7069181 , 5.44164081,\n",
       "       6.04680463, 8.        , 8.        , 3.32771238, 7.92861543])"
      ]
     },
     "execution_count": 56,
     "metadata": {},
     "output_type": "execute_result"
    }
   ],
   "source": [
    "y1_predicted"
   ]
  },
  {
   "cell_type": "code",
   "execution_count": 57,
   "metadata": {},
   "outputs": [],
   "source": [
    "rmse=mean_squared_error(a2,y1_predicted)"
   ]
  },
  {
   "cell_type": "code",
   "execution_count": 58,
   "metadata": {},
   "outputs": [
    {
     "data": {
      "text/plain": [
       "1.2654408673358002"
      ]
     },
     "execution_count": 58,
     "metadata": {},
     "output_type": "execute_result"
    }
   ],
   "source": [
    "rmse"
   ]
  },
  {
   "cell_type": "code",
   "execution_count": 59,
   "metadata": {},
   "outputs": [],
   "source": [
    "r2_scr=r2_score(a2,y1_predicted)"
   ]
  },
  {
   "cell_type": "code",
   "execution_count": 60,
   "metadata": {},
   "outputs": [
    {
     "data": {
      "text/plain": [
       "0.7877652273152875"
      ]
     },
     "execution_count": 60,
     "metadata": {},
     "output_type": "execute_result"
    }
   ],
   "source": [
    "r2_scr"
   ]
  },
  {
   "cell_type": "code",
   "execution_count": 63,
   "metadata": {},
   "outputs": [
    {
     "data": {
      "text/plain": [
       "<matplotlib.collections.PathCollection at 0x7f5c78254748>"
      ]
     },
     "execution_count": 63,
     "metadata": {},
     "output_type": "execute_result"
    },
    {
     "data": {
      "image/png": "[encoded data removed]",
      "text/plain": [
       "<Figure size 432x288 with 1 Axes>"
      ]
     },
     "metadata": {
      "needs_background": "light"
     },
     "output_type": "display_data"
    }
   ],
   "source": [
    "plt.scatter(a1,a2,color='r')"
   ]
  },
  {
   "cell_type": "code",
   "execution_count": 67,
   "metadata": {},
   "outputs": [
    {
     "data": {
      "text/plain": [
       "<matplotlib.collections.PathCollection at 0x7f5c7608fdd8>"
      ]
     },
     "execution_count": 67,
     "metadata": {},
     "output_type": "execute_result"
    },
    {
     "data": {
      "image/png": "[encoded data removed]",
      "text/plain": [
       "<Figure size 432x288 with 1 Axes>"
      ]
     },
     "metadata": {
      "needs_background": "light"
     },
     "output_type": "display_data"
    }
   ],
   "source": [
    "plt.scatter(a1,y1_predicted)"
   ]
  },
  {
   "cell_type": "code",
   "execution_count": null,
   "metadata": {},
   "outputs": [],
   "source": []
  }
 ],
 "metadata": {
  "kernelspec": {
   "display_name": "Python 3",
   "language": "python",
   "name": "python3"
  },
  "language_info": {
   "codemirror_mode": {
    "name": "ipython",
    "version": 3
   },
   "file_extension": ".py",
   "mimetype": "text/x-python",
   "name": "python",
   "nbconvert_exporter": "python",
   "pygments_lexer": "ipython3",
   "version": "3.6.7"
  }
 },
 "nbformat": 4,
 "nbformat_minor": 2
}
